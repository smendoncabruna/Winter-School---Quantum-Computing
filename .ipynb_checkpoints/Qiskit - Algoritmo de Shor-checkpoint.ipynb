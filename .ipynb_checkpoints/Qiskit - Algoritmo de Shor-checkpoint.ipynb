{
 "cells": [
  {
   "cell_type": "code",
   "execution_count": 1,
   "metadata": {
    "slideshow": {
     "slide_type": "skip"
    }
   },
   "outputs": [],
   "source": [
    "import matplotlib.pyplot as plt\n",
    "import numpy as np\n",
    "from qiskit import QuantumCircuit, Aer, transpile, assemble\n",
    "from qiskit.visualization import plot_histogram\n",
    "from math import gcd\n",
    "from numpy.random import randint\n",
    "import pandas as pd\n",
    "from fractions import Fraction"
   ]
  },
  {
   "cell_type": "markdown",
   "metadata": {
    "slideshow": {
     "slide_type": "slide"
    }
   },
   "source": [
    "Algoritmo de Shor \n",
    "==============\n",
    "\n",
    "*Author: Bruna Shinohara de Mendonça. Last updated: 9 Jul 2022.*\n",
    "\n",
    "Nessa aula, vamos falar desse algoritmo de grande importância para a segurança da informação: o algoritmo de Shor."
   ]
  },
  {
   "cell_type": "markdown",
   "metadata": {
    "slideshow": {
     "slide_type": "slide"
    }
   },
   "source": [
    "O que é um protocolo de criptografia?\n",
    "==============\n",
    "\n",
    "É alguma função na qual se transforma uma mensagem em alguma outra mensagem, de forma em que a comunicação seja privada. Coisas como:\n",
    "\n",
    "- Trocar letras por outras letras, ou um conjunto de letras, seguindo um padrão\n",
    "- Dificultar a visualização da mensagem (estenografia)\n",
    "\n",
    "Entre outros."
   ]
  },
  {
   "cell_type": "markdown",
   "metadata": {
    "slideshow": {
     "slide_type": "slide"
    }
   },
   "source": [
    "Como fazer um protocolo?\n",
    "==============\n",
    "\n",
    "Em geral, busca-se um problema matemático que seja considerado “difícil”, até para uma máquina, de forma em que a quebra da criptografia demore um tempo impraticável.\n",
    "\n",
    "Em termos mais técnicos, do tipo \"NP\" (fácil de testar uma resposta que já se saiba, difícil de achar solução em tempo hábil)."
   ]
  },
  {
   "cell_type": "markdown",
   "metadata": {
    "slideshow": {
     "slide_type": "slide"
    }
   },
   "source": [
    "Simétrica versus Assimétrica\n",
    "==============\n",
    "Na simétrica, utiliza-se a mesma chave para criptografar e decifrar. Na assimétrica, chaves diferentes.\n",
    "\n",
    "A Assimétrica é mais segura, mas a simétrica funciona melhor para grandes fluxos de informação (ex: AES)"
   ]
  },
  {
   "cell_type": "markdown",
   "metadata": {
    "slideshow": {
     "slide_type": "slide"
    }
   },
   "source": [
    "Dois problemas NP importantes para protocolos \n",
    "==============\n",
    "\n",
    "- Logaritmo discreto de curva elíptica (ECDLP)\n",
    "- Fatoração em primos\n",
    "\n",
    "São problemas diferentes, mas ambos envolvem aritmética modular [1]."
   ]
  },
  {
   "cell_type": "markdown",
   "metadata": {
    "slideshow": {
     "slide_type": "slide"
    }
   },
   "source": [
    "Algoritmo de Shor\n",
    "==============\n",
    "\n",
    "O algoritmo de Shor resolve mais rapidamente o problema de fatoração de primos.\n",
    "\n",
    "O problema consiste na decomposição de um número em multiplicação de números que sejam primos, e não há forma rápida de fazer isso. Essa é a base pra criptografia RSA, uma das mais importantes criptografias assimétricas atuais."
   ]
  },
  {
   "cell_type": "markdown",
   "metadata": {
    "slideshow": {
     "slide_type": "slide"
    }
   },
   "source": [
    "Passos do algoritmo de Shor\n",
    "===========================================\n",
    "\n",
    "Dado um número N que queremos fatorar, os passos do algoritmo são\n",
    "\n",
    "<ol>\n",
    "   <li>\n",
    "        Escolher um número a $<$ N que seja coprimo de N: \n",
    "        \n",
    "\n",
    "$$\n",
    "\\text{MDC}(N,a) = 1.$$\n",
    "\n",
    "\n",
    "   </li>\n",
    "    \n",
    "   <li>\n",
    "       Encontrar a ordem r. A ordem é definida como o menor número natural que satisfaça:\n",
    "$$\n",
    "a^r = 1 \\text{mod} N $$\n",
    "       \n",
    "   </li>\n",
    "\n",
    "   <li>\n",
    "       Se r for ímpar ou \n",
    "$$\n",
    "a^{r/2} = -1 \\text{mod} N,$$\n",
    "       escolhe-se outro número.\n",
    "       \n",
    "   </li>\n",
    "\n",
    "   <li>\n",
    "       Se r for par, temos que \n",
    "$$\n",
    "\\{\\text{MDC}(a^{r/2} + 1), \\text{MDC}(a^{r/2} - 1)\\}$$\n",
    "       São dois divisores não-triviais de N.\n",
    "       \n",
    "   </li>\n",
    " </ol>\n"
   ]
  },
  {
   "cell_type": "markdown",
   "metadata": {
    "slideshow": {
     "slide_type": "slide"
    }
   },
   "source": [
    "Exemplo de fatoração: 15 =5x3\n",
    "==============\n",
    "\n",
    "Vamos pegar um número pequeno para esse exemplo: 15. Já sabemos que a sua decomposição em primos seria 5 x 3.\n",
    "\n",
    "Como isso é feito com o Algoritmo de Shor, em sua versão clássica?\n"
   ]
  },
  {
   "cell_type": "markdown",
   "metadata": {
    "slideshow": {
     "slide_type": "slide"
    }
   },
   "source": [
    "Passos do algoritmo de Shor\n",
    "===========================================\n",
    "\n",
    "N = 15.\n",
    "\n",
    "<ol>\n",
    "   <li>\n",
    "        Escolher um número a $<$ N que seja coprimo de N: vamos escolher $a = 13$.\n",
    "\n",
    "   </li>\n",
    "    \n",
    "   <li>\n",
    "       Encontrar a ordem r, tal que \n",
    "       $$\n",
    "13^r = 1 \\text{mod} 15 $$\n",
    "       Vamos testar diferentes valores de r:\n",
    "       $$13^1 = 13 \\text{mod} 15$$\n",
    "       $$13^2 = 4 \\text{mod} 15$$\n",
    "       $$13^3 = 7 \\text{mod} 15$$\n",
    "       $$13^4 = 1 \\text{mod} 15$$\n",
    "       $$13^5 = 13 \\text{mod} 15$$\n",
    "       $$13^6 = 4 \\text{mod} 15$$\n",
    "       $$...$$\n",
    "   </li>\n",
    "Vemos que r = 4 satisfaz a condição.\n",
    "\n",
    "   <li>\n",
    "       Temos que \n",
    "$$\n",
    "\\{\\text{MDC}(13^{4/2} + 1), \\text{MDC}(13^{4/2} - 1)\\}$$\n",
    "$$\n",
    " = \\{5,3\\}$$\n",
    "       \n",
    "   </li>\n",
    "São dois divisores não-triviais de 15.\n",
    "\n",
    " </ol>\n"
   ]
  },
  {
   "cell_type": "markdown",
   "metadata": {
    "slideshow": {
     "slide_type": "slide"
    }
   },
   "source": [
    "Algoritmo de Shor - versão quântica\n",
    "===========================================\n",
    "\n",
    "Na versão quântica, vamos seguir os mesmos passos e resolver o problema de encontrar a ordem r por meio de uma subrotina chamada *Estimativa de fase quântica*, que pos sua vez é realizada via *Transformada de Fourier Quântica*. Vamos falar brevemente sobre ambas antes de mostrar a versão quântica de Shor.\n"
   ]
  },
  {
   "cell_type": "markdown",
   "metadata": {
    "slideshow": {
     "slide_type": "slide"
    }
   },
   "source": [
    "Transformada de Fourier Quântica e sua inversa\n",
    "===========================================\n",
    "\n",
    "A transformada CLÁSSICA de Fourier transforma um vetor de números complexos $x$, com N componentes, em um outro vetor de números complexos, $y$.\n",
    "\n",
    "<ol>\n",
    "   \n",
    "$$\n",
    "y_k = \\frac{1}{\\sqrt{N}}\\sum_{j=0}^{N-1} x_j e^{2 \\pi i j k /N}$$\n",
    "\n",
    "Analogamente, a versão clássica relaciona bases:\n",
    "    \n",
    "$$\n",
    "\\vert j \\rangle = \\frac{1}{\\sqrt{N}}\\sum_{k = 0}^{N-1} e^{2 \\pi i j k /N}\\vert k\\rangle$$\n",
    "\n",
    "Se tivermos multiplos qubits ($2^n$, no caso), é possível mostrar que, com $\\vert k\\rangle$ sendo a base computacional,\n",
    "\n",
    "$$\n",
    "\\vert j \\rangle = \\frac{1}{\\sqrt{2^n}}(\\vert 0\\rangle +  e^{2 \\pi i 0.j_n}\\vert 1\\rangle)(\\vert 0\\rangle +  e^{2 \\pi i 0.j_{n-1}...j_n /N}\\vert 1\\rangle)...(\\vert 0\\rangle +  e^{2 \\pi i 0.j_1...j_n}\\vert 1\\rangle)$$\n",
    "\n",
    "\n",
    "Aqui fica mais fácil de visualizar como a QFT pode ser implementada via uma série de rotações controladas, da forma\n",
    "    $$R_k = \\left[\\begin{array}{ccc}\n",
    "1 & 0\\\\\n",
    "0 & e^{2 \\pi i/2^k}\n",
    "\\end{array}\\right]$$\n",
    "\n",
    "</ol>\n"
   ]
  },
  {
   "cell_type": "markdown",
   "metadata": {
    "slideshow": {
     "slide_type": "slide"
    }
   },
   "source": [
    "Estimação de fase quântica\n",
    "===========================================\n",
    "\n",
    "Esse algoritmo permite encontrar a fase $\\phi$ quando temos algo da forma\n",
    "$$ U \\vert \\psi \\rangle = e^{i \\phi} \\vert \\psi \\rangle$$.\n",
    "Isso pode ser feito com uma transformada de Fourier inversa.\n",
    "\n",
    "Nesse algoritmo, temos duas registradoras (dois conjuntos de qubits com funções diferentes). Precisamos de um número $t$ de qubits na primeira registradora (quanto maior t, melhor aproximação). Na segunda registradora, vamos armazenar o estado $\\vert \\psi \\rangle$.\n",
    "$$\n",
    "\\vert j \\rangle = \\frac{1}{\\sqrt{2^n}}(\\vert 0\\rangle +  e^{2 \\pi i 0.j_n}\\vert 1\\rangle)(\\vert 0\\rangle +  e^{2 \\pi i 0.j_{n-1}...j_n /N}\\vert 1\\rangle)...(\\vert 0\\rangle +  e^{2 \\pi i 0.j_1...j_n}\\vert 1\\rangle)$$\n",
    "\n",
    "</ol>\n",
    "Podemos obter a fase (o argumento da exponencial) fazendo uma transformada inversa de Fourier."
   ]
  },
  {
   "cell_type": "markdown",
   "metadata": {
    "slideshow": {
     "slide_type": "slide"
    }
   },
   "source": [
    "## Shor: versão quântica\n",
    "\n",
    "Agora vamos entender como o algoritmo de Shor, em sua versão quântica, se relaciona com o problema de estimação de fase [2].\n",
    "\n",
    "Vamos retomar o exemplo da fatoração de N = 15. Os passos serão:\n",
    "\n",
    "\n",
    "<ol>\n",
    "   <li>\n",
    "        Escolher um número a $<$ N que seja coprimo de N: vamos escolher $a = 7$, para variar.\n",
    "\n",
    "   </li>\n",
    "    \n",
    "   <li>\n",
    "       Encontrar a ordem r.\n",
    "   </li>\n",
    "Vamos inicializar duas registradoras. A primeira registradora, representada por $\\vert k \\rangle$, terá $t$ qubits - esse valor, novamente, vai se relacionar com a precisão do algoritmo. A segunda registradora terá a quantidade de qubits necessárias para representar o estado $\\vert \\psi \\rangle$.    \n",
    "Aplicando $t$ Hadamard para colocar os estados da primeira registradora em superposição;\n",
    "   \n",
    "$$\n",
    "\\vert j \\rangle\n",
    "= \\frac{1}{\\sqrt{2^t}} \\sum_{k = 0}^{2^t-1}\\vert k \\rangle \\vert 0 \\rangle\n",
    "= \\frac{1}{\\sqrt{2^t}} \\sum_{k = 0}^{2^t-1}(\\vert 0 \\rangle + \\vert 1 \\rangle + ... + \\vert 2^t - 1 \\rangle)\\vert 0 \\rangle $$\n",
    "    <li>\n",
    "\n",
    "Vamos aplicar uma operação chamada *Oráculo*, $U$. Não vamos explicitar a forma do oráculo nesse momento, apenas considere uma operação tal que: \n",
    "\n",
    "$$\n",
    "U \\vert \\psi \\rangle\n",
    "= \\frac{1}{\\sqrt{2^t}} \\sum_{k = 0}^{2^t-1}\\vert k \\rangle \\vert x^k \\text{mod} N \\rangle\n",
    "$$\n",
    "\n",
    "Perceba que, agora, ambas registradoras dependem de $k$. Expandindo a soma, \n",
    "\n",
    "$$\n",
    "U \\vert \\psi \\rangle\n",
    "= \\frac{1}{\\sqrt{2^t}} \n",
    "(\\vert 0 \\rangle \\vert 1 \\rangle\n",
    "+\\vert 1 \\rangle \\vert 7 \\rangle\n",
    "+\\vert 2 \\rangle \\vert 4 \\rangle\n",
    "+\\vert 3 \\rangle \\vert 1 \\rangle\n",
    "+...)\n",
    "$$\n",
    "\n",
    "Agora, vamos aplicar a Transformada de Fourier inversa na primeira registradora. Vamos obter um histograma de estados e suas probabilidades.\n",
    "        \n",
    "Com isso, podemos obter as fases! Convertendo os estados obtidos na medição para decimal, a fase será esse valor dividido pela quantidade total de estados.\n",
    "\n",
    "Tendo a fase, podemos obter o período. Isso será feito expressando a fase na forma de frações contínuas:\n",
    "        \n",
    "$$\\phi = a_0 + \\frac{1}{a_1 + \\frac{1}{a_2 + ...}}$$\n",
    "        \n",
    "Como $\\phi = s/r$, obtemos o período por meio do denominador que encontrarmos.\n"
   ]
  },
  {
   "cell_type": "markdown",
   "metadata": {
    "slideshow": {
     "slide_type": "slide"
    }
   },
   "source": [
    "## Shor: Implementação no Qiskit\n"
   ]
  },
  {
   "cell_type": "markdown",
   "metadata": {
    "slideshow": {
     "slide_type": "slide"
    }
   },
   "source": [
    "Antes de seguir os passos do algortimo, vamos definir uma função que atuará como Oráculo:"
   ]
  },
  {
   "cell_type": "code",
   "execution_count": 2,
   "metadata": {
    "slideshow": {
     "slide_type": "subslide"
    }
   },
   "outputs": [],
   "source": [
    "def c_amod15(a, power):\n",
    "    \"\"\"Controlled multiplication by a mod 15\"\"\"\n",
    "    if a not in [2,4,7,8,11,13]:\n",
    "        raise ValueError(\"'a' must be 2,4,7,8,11 or 13\")\n",
    "    U = QuantumCircuit(4)        \n",
    "    for iteration in range(power):\n",
    "        if a in [2,13]:\n",
    "            U.swap(0,1)\n",
    "            U.swap(1,2)\n",
    "            U.swap(2,3)\n",
    "        if a in [7,8]:\n",
    "            U.swap(2,3)\n",
    "            U.swap(1,2)\n",
    "            U.swap(0,1)\n",
    "        if a in [4, 11]:\n",
    "            U.swap(1,3)\n",
    "            U.swap(0,2)\n",
    "        if a in [7,11,13]:\n",
    "            for q in range(4):\n",
    "                U.x(q)\n",
    "    U = U.to_gate()\n",
    "    U.name = \"%i^%i mod 15\" % (a, power)\n",
    "    c_U = U.control()\n",
    "    return c_U"
   ]
  },
  {
   "cell_type": "markdown",
   "metadata": {
    "slideshow": {
     "slide_type": "slide"
    }
   },
   "source": [
    "Vamos definir também uma função que realizará a transformada inversa de Fourier:"
   ]
  },
  {
   "cell_type": "code",
   "execution_count": 3,
   "metadata": {
    "slideshow": {
     "slide_type": "subslide"
    }
   },
   "outputs": [],
   "source": [
    "def qft_dagger(n):\n",
    "    \"\"\"n-qubit QFTdagger the first n qubits in circ\"\"\"\n",
    "    qc = QuantumCircuit(n)\n",
    "    # Don't forget the Swaps!\n",
    "    for qubit in range(n//2):\n",
    "        qc.swap(qubit, n-qubit-1)\n",
    "    for j in range(n):\n",
    "        for m in range(j):\n",
    "            qc.cp(-np.pi/float(2**(j-m)), m, j)\n",
    "        qc.h(j)\n",
    "    qc.name = \"QFT†\"\n",
    "    return qc"
   ]
  },
  {
   "cell_type": "markdown",
   "metadata": {
    "slideshow": {
     "slide_type": "slide"
    }
   },
   "source": [
    "Tendo 8 qubits na registradora,\n",
    "   <li>\n",
    "        Escolher um número a $<$ N que seja coprimo de N: vamos escolher $a = 7$.\n",
    "\n",
    "   </li>"
   ]
  },
  {
   "cell_type": "code",
   "execution_count": 4,
   "metadata": {
    "slideshow": {
     "slide_type": "subslide"
    }
   },
   "outputs": [],
   "source": [
    "n_count = 8\n",
    "a = 7"
   ]
  },
  {
   "cell_type": "markdown",
   "metadata": {
    "slideshow": {
     "slide_type": "slide"
    }
   },
   "source": [
    "Criamos o circuito com as duas registradoras. Precisamos de 4 qubits a mais na primeira para que o oráculo possa atuar."
   ]
  },
  {
   "cell_type": "code",
   "execution_count": 5,
   "metadata": {
    "slideshow": {
     "slide_type": "subslide"
    }
   },
   "outputs": [],
   "source": [
    "qc = QuantumCircuit(n_count + 4, n_count)"
   ]
  },
  {
   "cell_type": "markdown",
   "metadata": {
    "slideshow": {
     "slide_type": "slide"
    }
   },
   "source": [
    "Em Qiskit, os estados se iniciam em 0. Vamos aplicar os gates Hadarmard em 8 qubits da primeira registradora:"
   ]
  },
  {
   "cell_type": "code",
   "execution_count": 6,
   "metadata": {
    "slideshow": {
     "slide_type": "subslide"
    }
   },
   "outputs": [],
   "source": [
    "# Initialize counting qubits\n",
    "# in state |+>\n",
    "for q in range(n_count):\n",
    "    qc.h(q)"
   ]
  },
  {
   "cell_type": "markdown",
   "metadata": {
    "slideshow": {
     "slide_type": "slide"
    }
   },
   "source": [
    "Sobraram 4 qubits na primeira registradora. Vamos colocar um deles no estado |1>, usando $\\sigma_x$"
   ]
  },
  {
   "cell_type": "code",
   "execution_count": 7,
   "metadata": {
    "slideshow": {
     "slide_type": "subslide"
    }
   },
   "outputs": [
    {
     "data": {
      "text/plain": [
       "<qiskit.circuit.instructionset.InstructionSet at 0x238df49f900>"
      ]
     },
     "execution_count": 7,
     "metadata": {},
     "output_type": "execute_result"
    }
   ],
   "source": [
    "# And auxiliary register in state |1>\n",
    "qc.x(3+n_count)"
   ]
  },
  {
   "cell_type": "markdown",
   "metadata": {
    "slideshow": {
     "slide_type": "slide"
    }
   },
   "source": [
    "Vamos aplicar o oráculos com o auxílio dos demais qubits da primeira registradora."
   ]
  },
  {
   "cell_type": "code",
   "execution_count": 8,
   "metadata": {
    "slideshow": {
     "slide_type": "subslide"
    }
   },
   "outputs": [],
   "source": [
    "# Do controlled-U operations\n",
    "for q in range(n_count):\n",
    "    qc.append(c_amod15(a, 2**q), \n",
    "             [q] + [i+n_count for i in range(4)])"
   ]
  },
  {
   "cell_type": "markdown",
   "metadata": {
    "slideshow": {
     "slide_type": "slide"
    }
   },
   "source": [
    "Fazemos a QFT inversa:"
   ]
  },
  {
   "cell_type": "code",
   "execution_count": 9,
   "metadata": {
    "slideshow": {
     "slide_type": "subslide"
    }
   },
   "outputs": [
    {
     "data": {
      "text/plain": [
       "<qiskit.circuit.instructionset.InstructionSet at 0x238df64f180>"
      ]
     },
     "execution_count": 9,
     "metadata": {},
     "output_type": "execute_result"
    }
   ],
   "source": [
    "# Do inverse-QFT\n",
    "qc.append(qft_dagger(n_count), range(n_count))"
   ]
  },
  {
   "cell_type": "markdown",
   "metadata": {
    "slideshow": {
     "slide_type": "slide"
    }
   },
   "source": [
    "Finalmente medimos! Também vamos usar a função qc.draw para entendermos como o circuito ficou."
   ]
  },
  {
   "cell_type": "code",
   "execution_count": 10,
   "metadata": {
    "slideshow": {
     "slide_type": "slide"
    }
   },
   "outputs": [
    {
     "data": {
      "image/png": "[encoded data removed]",
      "text/plain": [
       "<Figure size 2206.58x806.68 with 1 Axes>"
      ]
     },
     "execution_count": 10,
     "metadata": {},
     "output_type": "execute_result"
    }
   ],
   "source": [
    "# Measure circuit\n",
    "qc.measure(range(n_count), range(n_count))\n",
    "qc.draw(fold=-1, output = 'mpl')  # -1 means 'do not fold' "
   ]
  },
  {
   "cell_type": "markdown",
   "metadata": {
    "slideshow": {
     "slide_type": "slide"
    }
   },
   "source": [
    "Obtemos os estados finais e suas probabilidades enviando esse circuito para um simulador quântico e fazneod um gráfico dos resultados."
   ]
  },
  {
   "cell_type": "code",
   "execution_count": 11,
   "metadata": {
    "slideshow": {
     "slide_type": "slide"
    }
   },
   "outputs": [
    {
     "data": {
      "image/png": "[encoded data removed]",
      "text/plain": [
       "<Figure size 504x360 with 1 Axes>"
      ]
     },
     "execution_count": 11,
     "metadata": {},
     "output_type": "execute_result"
    }
   ],
   "source": [
    "aer_sim = Aer.get_backend('aer_simulator')\n",
    "t_qc = transpile(qc, aer_sim)\n",
    "qobj = assemble(t_qc)\n",
    "results = aer_sim.run(qobj).result()\n",
    "counts = results.get_counts()\n",
    "plot_histogram(counts)"
   ]
  },
  {
   "cell_type": "markdown",
   "metadata": {
    "slideshow": {
     "slide_type": "slide"
    }
   },
   "source": [
    "E extraimos as fases. A função a seguir converte em decimal e obtém a fase (lembrando que temos 2^8 = 256 estados)"
   ]
  },
  {
   "cell_type": "code",
   "execution_count": 12,
   "metadata": {
    "slideshow": {
     "slide_type": "slide"
    }
   },
   "outputs": [
    {
     "name": "stdout",
     "output_type": "stream",
     "text": [
      "            Register Output           Phase\n",
      "0  00000000(bin) =   0(dec)    0/256 = 0.00\n",
      "1  11000000(bin) = 192(dec)  192/256 = 0.75\n",
      "2  01000000(bin) =  64(dec)   64/256 = 0.25\n",
      "3  10000000(bin) = 128(dec)  128/256 = 0.50\n"
     ]
    }
   ],
   "source": [
    "rows, measured_phases = [], []\n",
    "for output in counts:\n",
    "    decimal = int(output, 2)  # Convert (base 2) string to decimal\n",
    "    phase = decimal/(2**n_count)  # Find corresponding eigenvalue\n",
    "    measured_phases.append(phase)\n",
    "    # Add these values to the rows in our table:\n",
    "    rows.append([f\"{output}(bin) = {decimal:>3}(dec)\", \n",
    "                 f\"{decimal}/{2**n_count} = {phase:.2f}\"])\n",
    "# Print the rows in a table\n",
    "headers=[\"Register Output\", \"Phase\"]\n",
    "df = pd.DataFrame(rows, columns=headers)\n",
    "print(df)"
   ]
  },
  {
   "cell_type": "markdown",
   "metadata": {
    "slideshow": {
     "slide_type": "slide"
    }
   },
   "source": [
    "Agora, usamos a função Fraction do Python para obter as frações continuas, limitando o denominador em 15 (nosso N)."
   ]
  },
  {
   "cell_type": "code",
   "execution_count": 13,
   "metadata": {
    "slideshow": {
     "slide_type": "slide"
    }
   },
   "outputs": [
    {
     "name": "stdout",
     "output_type": "stream",
     "text": [
      "   Phase Fraction  Guess for r\n",
      "0   0.00      0/1            1\n",
      "1   0.75      3/4            4\n",
      "2   0.25      1/4            4\n",
      "3   0.50      1/2            2\n"
     ]
    }
   ],
   "source": [
    "rows = []\n",
    "for phase in measured_phases:\n",
    "    frac = Fraction(phase).limit_denominator(15)\n",
    "    rows.append([phase, f\"{frac.numerator}/{frac.denominator}\", frac.denominator])\n",
    "# Print as a table\n",
    "headers=[\"Phase\", \"Fraction\", \"Guess for r\"]\n",
    "df = pd.DataFrame(rows, columns=headers)\n",
    "print(df)"
   ]
  },
  {
   "cell_type": "markdown",
   "metadata": {
    "slideshow": {
     "slide_type": "slide"
    }
   },
   "source": [
    "Percebam que o r que queremos aparece com maior frequência.\n",
    "\n",
    "Vamos condensar o que fizemos até agora em uma função única:"
   ]
  },
  {
   "cell_type": "code",
   "execution_count": 14,
   "metadata": {
    "slideshow": {
     "slide_type": "slide"
    }
   },
   "outputs": [
    {
     "name": "stdout",
     "output_type": "stream",
     "text": [
      "Register Reading: 01000000\n",
      "Corresponding Phase: 0.250000\n"
     ]
    },
    {
     "data": {
      "text/plain": [
       "Fraction(1, 4)"
      ]
     },
     "execution_count": 14,
     "metadata": {},
     "output_type": "execute_result"
    }
   ],
   "source": [
    "def qpe_amod15(a):\n",
    "    n_count = 8\n",
    "    qc = QuantumCircuit(4+n_count, n_count)\n",
    "    for q in range(n_count):\n",
    "        qc.h(q)     # Initialize counting qubits in state |+>\n",
    "    qc.x(3+n_count) # And auxiliary register in state |1>\n",
    "    for q in range(n_count): # Do controlled-U operations\n",
    "        qc.append(c_amod15(a, 2**q), \n",
    "                 [q] + [i+n_count for i in range(4)])\n",
    "    qc.append(qft_dagger(n_count), range(n_count)) # Do inverse-QFT\n",
    "    qc.measure(range(n_count), range(n_count))\n",
    "    # Simulate Results\n",
    "    aer_sim = Aer.get_backend('aer_simulator')\n",
    "    # Setting memory=True below allows us to see a list of each sequential reading\n",
    "    t_qc = transpile(qc, aer_sim)\n",
    "    qobj = assemble(t_qc, shots=1)\n",
    "    result = aer_sim.run(qobj, memory=True).result()\n",
    "    readings = result.get_memory()\n",
    "    print(\"Register Reading: \" + readings[0])\n",
    "    phase = int(readings[0],2)/(2**n_count)\n",
    "    print(\"Corresponding Phase: %f\" % phase)\n",
    "    return phase\n",
    "\n",
    "phase = qpe_amod15(7) # Phase = s/r\n",
    "Fraction(phase).limit_denominator(15) # Denominator should (hopefully!) tell us r"
   ]
  },
  {
   "cell_type": "markdown",
   "metadata": {
    "slideshow": {
     "slide_type": "slide"
    }
   },
   "source": [
    "Um pouco mais de Python para conseguir r:"
   ]
  },
  {
   "cell_type": "code",
   "execution_count": 15,
   "metadata": {
    "slideshow": {
     "slide_type": "subslide"
    }
   },
   "outputs": [
    {
     "name": "stdout",
     "output_type": "stream",
     "text": [
      "4\n"
     ]
    }
   ],
   "source": [
    "frac = Fraction(phase).limit_denominator(15)\n",
    "s, r = frac.numerator, frac.denominator\n",
    "print(r)"
   ]
  },
  {
   "cell_type": "markdown",
   "metadata": {
    "slideshow": {
     "slide_type": "slide"
    }
   },
   "source": [
    "Vamos fatorar! Basta importar e usar a função gcd (greatest common divisor)."
   ]
  },
  {
   "cell_type": "code",
   "execution_count": 16,
   "metadata": {
    "slideshow": {
     "slide_type": "subslide"
    }
   },
   "outputs": [
    {
     "name": "stdout",
     "output_type": "stream",
     "text": [
      "[3, 5]\n"
     ]
    }
   ],
   "source": [
    "from math import gcd\n",
    "\n",
    "N = 15\n",
    "guesses = [gcd(a**(r//2)-1, N), gcd(a**(r//2)+1, N)]\n",
    "print(guesses)"
   ]
  },
  {
   "cell_type": "markdown",
   "metadata": {
    "slideshow": {
     "slide_type": "slide"
    }
   },
   "source": [
    "## Referencias"
   ]
  },
  {
   "cell_type": "markdown",
   "metadata": {
    "slideshow": {
     "slide_type": "subslide"
    }
   },
   "source": [
    "[1]: Modular arithmetic: https://en.wikipedia.org/wiki/Modular_arithmetic\n",
    "\n",
    "[2]: Implementação do algoritmo de Shor's em Qiskit (inglês): https://qiskit.org/textbook/ch-algorithms/shor.html\n"
   ]
  }
 ],
 "metadata": {
  "celltoolbar": "Slideshow",
  "kernelspec": {
   "display_name": "Python 3",
   "language": "python",
   "name": "python3"
  },
  "language_info": {
   "codemirror_mode": {
    "name": "ipython",
    "version": 3
   },
   "file_extension": ".py",
   "mimetype": "text/x-python",
   "name": "python",
   "nbconvert_exporter": "python",
   "pygments_lexer": "ipython3",
   "version": "3.8.8"
  }
 },
 "nbformat": 4,
 "nbformat_minor": 1
}
