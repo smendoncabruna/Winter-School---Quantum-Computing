{
 "cells": [
  {
   "cell_type": "code",
   "execution_count": 1,
   "metadata": {},
   "outputs": [],
   "source": [
    "%matplotlib inline\n",
    "\n",
    "import pennylane as qml\n",
    "from pennylane import numpy as np"
   ]
  },
  {
   "cell_type": "markdown",
   "metadata": {},
   "source": [
    "Deutsch-Jozsa \n",
    "==============\n",
    "\n",
    "*Author: Bruna Shinohara de Mendonça. Last updated: 18 Apr 2022.*\n",
    "\n",
    "This might not be you first rodeo with the concept of Oracle [1], but here we will find it in a different context.\n",
    "\n",
    "Consider that we have a function that, given an input (the qubits in the register), it may return:\n",
    "\n",
    "I - All measurements in state $\\vert 0 \\rangle$ or in state $\\vert 1 \\rangle$;\n",
    "\n",
    "II - Half of the measurements are in state $\\vert 0 \\rangle$ and half in state $\\vert 1 \\rangle$.\n",
    "\n",
    "Function I is said to be **constant** and function II is said to be **balanced**.\n",
    "\n",
    "Going back to classical computation: how could we differentiate these functions?\n",
    "In that situation, we may need to check half of the inputs and one more: this would be the \"worst case\" scenario, i.e., the situation where all the states in the first half are either zero or one, so we would need to check one more state to make sure it is (or isn't constant). In other words, for a number $n$ of inputs, the worst case scenario requires"
   ]
  },
  {
   "cell_type": "markdown",
   "metadata": {},
   "source": [
    "$$\\text{Shots}_{\\text{Classical}} = n/2 +1$$"
   ]
  },
  {
   "cell_type": "markdown",
   "metadata": {},
   "source": [
    "Let's get quantum?\n",
    "==============\n",
    "\n",
    "The neat thing about Deutsch-Jozsa algorithm is that calling the function only one time is enough to tell its type!\n",
    "We don't even have a \"worst\" case, since we always have"
   ]
  },
  {
   "cell_type": "markdown",
   "metadata": {},
   "source": [
    "$$\\text{Shots}_{\\text{Quantum}} = 1$$"
   ]
  },
  {
   "cell_type": "markdown",
   "metadata": {},
   "source": [
    "How?\n",
    "===========================================\n",
    "\n",
    "Here is the algorithm for a generic number of input qubits.\n",
    "We need two registers: one will store the $n$ qubits that will be used as input, initialized in $\\vert 0 \\rangle$. \n",
    "The other will store a $\\vert 1 \\rangle$ state, that will work as an auxiliary qubit.\n",
    "\n",
    "Thus, our first step is:\n",
    "\n",
    "<ol>\n",
    "   <li>\n",
    "        Prepare two quantum registers as instructed above:\n",
    "        \n",
    "\n",
    "$$\n",
    "\\vert \\psi_0 \\rangle = \\vert0\\rangle^{\\otimes n} \\vert 1\\rangle$$\n",
    "\n",
    "\n",
    "   </li>\n",
    "    \n",
    "   <li>\n",
    "        Apply Hadamard gates to all qubits, including the auxiliary one. We may write the obtained state as:\n",
    "        \n",
    "\n",
    "$$\\vert \\psi_1 \\rangle = \\frac{1}{\\sqrt{2^{n+1}}}\\sum_{x=0}^{2^n-1} \\vert x\\rangle \\left(|0\\rangle - |1 \\rangle \\right)$$\n",
    "\n",
    "Note the appearance of a misterious $\\vert x \\rangle$ state. This generic way of writing it is intentional, since this state is only necessary for the implementation of the oracle, but it does not intefere in the final state.\n",
    "       \n",
    "   </li>\n",
    "   \n",
    "   <li>\n",
    "        Apply the quantum oracle. Here, it will act as $\\vert x\\rangle \\vert y\\rangle$ to $\\vert x\\rangle \\vert y \\oplus f(x)\\rangle$,  $\\oplus$ being the operation of addition modulo 2 [2]:\n",
    "        $$\n",
    "            \\begin{aligned}\n",
    "            \\lvert \\psi_2 \\rangle  \n",
    "                & = \\frac{1}{\\sqrt{2^{n+1}}}\\sum_{x=0}^{2^n-1} \\vert x\\rangle (\\vert f(x)\\rangle - \\vert 1 \\oplus f(x)\\rangle) \\\\  \n",
    "                & = \\frac{1}{\\sqrt{2^{n+1}}}\\sum_{x=0}^{2^n-1}(-1)^{f(x)}|x\\rangle ( |0\\rangle - |1\\rangle ) \n",
    "        \\end{aligned}\n",
    "        $$\n",
    "       \n",
    "   </li>\n",
    "\n",
    "   <li>\n",
    "       We now apply Hadamard gates to all qubit in the first register:\n",
    "        $$\n",
    "        \\begin{aligned}\n",
    "            \\lvert \\psi_3 \\rangle \n",
    "                & = \\frac{1}{2^n}\\sum_{x=0}^{2^n-1}(-1)^{f(x)}\n",
    "                    \\left[ \\sum_{y=0}^{2^n-1}(-1)^{x \\cdot y} \n",
    "                    \\vert y \\rangle \\right] \\\\\n",
    "                & = \\frac{1}{2^n}\\sum_{y=0}^{2^n-1}\n",
    "                    \\left[ \\sum_{x=0}^{2^n-1}(-1)^{f(x)}(-1)^{x \\cdot y} \\right]\n",
    "                    \\vert y \\rangle\n",
    "        \\end{aligned}\n",
    "        $$\n",
    "       \n",
    "where $x \\cdot y = x_0y_0 \\oplus x_1y_1 \\oplus \\ldots \\oplus x_{n-1}y_{n-1}$.\n",
    "       \n",
    "The $\\vert x\\rangle$ state is already omitted from the equations, as it does not interfere at all after this point.\n",
    "   </li>\n",
    "\n",
    "   <li>\n",
    "       Measure the first register.\n",
    "   </li>\n",
    "We will have two possible outputs when evaluating the probability of the final state to be in $\\vert 0 \\rangle ^{\\otimes n}$. \n",
    "This is given by \n",
    "\n",
    "$$P(\\vert 0 \\rangle ^{\\otimes n}) = \\lvert \\frac{1}{2^n}\\sum_{x=0}^{2^n-1}(-1)^{f(x)}(-1)^{x \\cdot y} \\langle 0^{\\otimes n}\\vert y \\rangle \\rvert^2$$\n",
    "    \n",
    "Note that $\\langle 0^{\\otimes n}\\vert y \\rangle = 1$ if $\\vert y \\rangle = \\vert 0^{\\otimes n}\\rangle$ (and zero otherwise). \n",
    "When $\\langle 0^{\\otimes n}\\vert y \\rangle = 1$, $(-1)^{f(x)}(-1)^{x \\cdot y} = (-1)^{f(x)}$\n",
    "    \n",
    "Therefore, our probability reduces to     \n",
    "$$P(\\vert 0 \\rangle ^{\\otimes n}) = \\lvert \\frac{1}{2^n}\\sum_{x=0}^{2^n-1}(-1)^{f(x)}\\rvert^2$$\n",
    "    \n",
    "Now, if our f(x) is balanced, the equal number of zeros and ones will cancel the terms in the summation. Something like:\n",
    "    \n",
    "$$P(\\vert 0 \\rangle ^{\\otimes n}) = \\lvert \\frac{1}{2^n}(-1)^{0}+(-1)^{1}+(-1)^{0}+(-1)^{1}+...\\rvert^2 = 0$$\n",
    "\n",
    "However, if our f(x) is constant, the sum would lead to:\n",
    "    \n",
    "$$P(\\vert 0 \\rangle ^{\\otimes n}) = \\lvert \\frac{1}{2^n}(-1)^{f(x)}2^n\\rvert^2 = 1$$\n",
    "    \n",
    "since $\\lvert(-1)^{0}\\lvert^2 = \\lvert(-1)^{1}\\lvert^2 = 1$.\n",
    "    \n",
    "Here is a sketch of the circuit:\n",
    "</ol>\n"
   ]
  },
  {
   "attachments": {
    "Untitled%20Diagram.drawio%281%29.png": {
     "image/png": "[encoded data removed]"
    }
   },
   "cell_type": "markdown",
   "metadata": {},
   "source": [
    "![Untitled%20Diagram.drawio%281%29.png](attachment:Untitled%20Diagram.drawio%281%29.png)"
   ]
  },
  {
   "cell_type": "markdown",
   "metadata": {},
   "source": [
    "## Example: two-qubit register\n",
    "\n",
    "How about we implement Deutsch-Jozsa algorithm in Pennylane?\n",
    "Let us start simple, $n = 2$.\n",
    "\n",
    "### I: Create initial states of the registers\n",
    "\n",
    "In this case, we initialize by creating $\\vert 0,0\\rangle \\otimes \\vert 1 \\rangle$."
   ]
  },
  {
   "cell_type": "code",
   "execution_count": 2,
   "metadata": {},
   "outputs": [],
   "source": [
    "dev = qml.device(\"default.qubit\", wires=3, shots=1)"
   ]
  },
  {
   "cell_type": "markdown",
   "metadata": {},
   "source": [
    "note that we use `wires = 3`, since we need on more qubit to use as auxiliary.\n",
    "\n",
    "### II: Add Hadamard gates"
   ]
  },
  {
   "cell_type": "code",
   "execution_count": 3,
   "metadata": {},
   "outputs": [],
   "source": [
    "bits = []\n",
    "@qml.qnode(dev)\n",
    "def circuit(bits):\n",
    "    for qubit in range(len(bits) + 1):\n",
    "        qml.Hadamard(qubit)\n",
    "    qml.PauliX(wires=2)"
   ]
  },
  {
   "cell_type": "markdown",
   "metadata": {},
   "source": [
    "Here, we also use a X gate to obtain a $\\vert - \\rangle$ state, as seen in the original algorithm.\n",
    "\n",
    "### III: Call the oracle\n",
    "\n",
    "The oracle function may be constructed in different ways, depending on whether you are aiming for a balanced or constant function. Here, we use an oracle that can be both, depending on the parameter `\"bits\"`.\n",
    "\n",
    "This oracle is inspired by this QHack 2022 problem [3] - feel free to try it out!"
   ]
  },
  {
   "cell_type": "code",
   "execution_count": 4,
   "metadata": {},
   "outputs": [],
   "source": [
    "def oracle(bits):\n",
    "    for i in bits:\n",
    "        return qml.CNOT(wires=[i, 2])"
   ]
  },
  {
   "cell_type": "markdown",
   "metadata": {},
   "source": [
    "How exactly this oracle works? We will see this in a second with an example, hold on ;)\n",
    "\n",
    "### IV: Apply Hadamard to qubits in the first register:"
   ]
  },
  {
   "cell_type": "code",
   "execution_count": 5,
   "metadata": {},
   "outputs": [],
   "source": [
    "for qubit in range(len(bits)):\n",
    "    qml.Hadamard(qubit)"
   ]
  },
  {
   "cell_type": "markdown",
   "metadata": {},
   "source": [
    "Finally,\n",
    "\n",
    "### V: Do the measurement"
   ]
  },
  {
   "cell_type": "code",
   "execution_count": 6,
   "metadata": {},
   "outputs": [],
   "source": [
    "measure_reg = qml.sample(wires=range(2))"
   ]
  },
  {
   "cell_type": "markdown",
   "metadata": {},
   "source": [
    "All together now:"
   ]
  },
  {
   "cell_type": "code",
   "execution_count": 7,
   "metadata": {},
   "outputs": [],
   "source": [
    "# I: Create state |0,0>x|1>\n",
    "\n",
    "dev = qml.device(\"default.qubit\", wires=3, shots=1)\n",
    "\n",
    "@qml.qnode(dev)\n",
    "def circuit(bits):\n",
    "    \n",
    "# II: Apply Hadamard to all\n",
    "\n",
    "    for qubit in range(len(bits) + 1):\n",
    "        qml.Hadamard(qubit)\n",
    "    qml.PauliX(wires=2)\n",
    "    \n",
    "# III: Call Oracle\n",
    "\n",
    "    oracle(bits)  \n",
    "\n",
    "# IV: Apply Hadamard to all qubits in the first register\n",
    "\n",
    "    for qubit in range(len(bits)):\n",
    "        qml.Hadamard(qubit)\n",
    "\n",
    "# V: Measure first register\n",
    "    measure_reg = qml.sample(wires=range(2))\n",
    "    return measure_reg"
   ]
  },
  {
   "cell_type": "markdown",
   "metadata": {},
   "source": [
    "We can now create a Python function to tell us whether the funcion is balanced or constant:"
   ]
  },
  {
   "cell_type": "code",
   "execution_count": 8,
   "metadata": {},
   "outputs": [],
   "source": [
    "def oracle_type(bits):\n",
    "    sample = circuit(bits)\n",
    "    ans = ''\n",
    "    if sample[0]==0 and sample[1]==0:\n",
    "        ans = \"constant\"\n",
    "    else:\n",
    "        ans = \"balanced\"\n",
    "    return print(ans)"
   ]
  },
  {
   "cell_type": "markdown",
   "metadata": {},
   "source": [
    "Let's call the function, having [1,1] as an input:"
   ]
  },
  {
   "cell_type": "code",
   "execution_count": 9,
   "metadata": {},
   "outputs": [
    {
     "name": "stdout",
     "output_type": "stream",
     "text": [
      "constant\n"
     ]
    }
   ],
   "source": [
    "bits1 = [1,1]\n",
    "oracle_type(bits1)"
   ]
  },
  {
   "cell_type": "markdown",
   "metadata": {},
   "source": [
    "Why is it constant? Let's take a look at our oracle's definition:\n",
    "```python\n",
    "def oracle(bits):\n",
    "\n",
    "    for i in bits:\n",
    "\n",
    "    return qml.CNOT(wires=[i, 2])\n",
    "```\n",
    "\n",
    "Therefore, in this example, our function is producing\n",
    "```python\n",
    "qml.CNOT(wires=[1, 2])\n",
    "qml.CNOT(wires=[1, 2])\n",
    "```\n",
    "However, our note that CNOT is reversible (you may check it yourself by multiplying the corresponding matrices!). Thus, applying it twice does not change anything. We can check by seeing what happens when we only apply the two CNOTs and measure."
   ]
  },
  {
   "cell_type": "code",
   "execution_count": 10,
   "metadata": {},
   "outputs": [
    {
     "data": {
      "text/plain": [
       "tensor([0, 0], dtype=int64, requires_grad=True)"
      ]
     },
     "execution_count": 10,
     "metadata": {},
     "output_type": "execute_result"
    }
   ],
   "source": [
    "@qml.qnode(dev)\n",
    "def circuit_cnots(bits):\n",
    "    oracle(bits)  \n",
    "    measure_reg = qml.sample(wires=range(2))\n",
    "    return measure_reg\n",
    "\n",
    "circuit_cnots(bits1)"
   ]
  },
  {
   "cell_type": "markdown",
   "metadata": {},
   "source": [
    "## Some final questions\n",
    "\n",
    "1. How to construct different types of oracles? You can find different approaches for both balanced and constant types. Be creative!\n",
    "2. How to generalize our code for more qubits?"
   ]
  },
  {
   "cell_type": "markdown",
   "metadata": {},
   "source": [
    "## References"
   ]
  },
  {
   "cell_type": "markdown",
   "metadata": {},
   "source": [
    "[1]: Grover's algorthm is covered here: https://codebook.xanadu.ai/\n",
    "\n",
    "[2]: Modular arithmetic: https://en.wikipedia.org/wiki/Modular_arithmetic\n",
    "\n",
    "[3]: QHACK problem:\n",
    "https://github.com/XanaduAI/QHack/blob/master/Coding_Challenges/algorithms_100_DeutschJozsa_template/deutsch_jozsa_template.py"
   ]
  }
 ],
 "metadata": {
  "kernelspec": {
   "display_name": "Python 3",
   "language": "python",
   "name": "python3"
  },
  "language_info": {
   "codemirror_mode": {
    "name": "ipython",
    "version": 3
   },
   "file_extension": ".py",
   "mimetype": "text/x-python",
   "name": "python",
   "nbconvert_exporter": "python",
   "pygments_lexer": "ipython3",
   "version": "3.8.8"
  }
 },
 "nbformat": 4,
 "nbformat_minor": 1
}
