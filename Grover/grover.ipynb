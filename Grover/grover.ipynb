{
 "cells": [
  {
   "cell_type": "code",
   "execution_count": 1,
   "id": "67576f8e",
   "metadata": {},
   "outputs": [],
   "source": [
    "#Prática - Lição 5\n",
    "#Algoritmo de Grover"
   ]
  },
  {
   "cell_type": "markdown",
   "id": "bce925ff",
   "metadata": {},
   "source": [
    "1. Primeiro passo\n",
    "\n",
    "<img src=\"grover_step1.jpg\" width=\"1000\" height=\"1000\">\n",
    "\n",
    "2. Segundo passo\n",
    "\n",
    "<img src=\"grover_step2.jpg\" width=\"1000\" height=\"1000\">\n",
    "\n",
    "3. Segundo passo\n",
    "\n",
    "<img src=\"grover_step3.jpg\" width=\"1000\" height=\"1000\">"
   ]
  },
  {
   "cell_type": "markdown",
   "id": "840bf7e8",
   "metadata": {},
   "source": [
    "Circuito\n",
    "\n",
    "<img src=\"grover_circuit_high_level.png\" width=\"1000\" height=\"1000\">\n",
    "\n",
    "Referência: https://qiskit.org/textbook/ch-algorithms/grover.html"
   ]
  },
  {
   "cell_type": "code",
   "execution_count": 2,
   "id": "7920993c",
   "metadata": {},
   "outputs": [],
   "source": [
    "#Importando bibliotecas\n",
    "\n",
    "from qiskit import *\n",
    "from qiskit.visualization import plot_histogram\n",
    "from qiskit.tools.monitor import job_monitor"
   ]
  },
  {
   "cell_type": "code",
   "execution_count": 3,
   "id": "7c9b40f2",
   "metadata": {},
   "outputs": [],
   "source": [
    "#Registro de qubits e bits\n",
    "\n",
    "qr = QuantumRegister(2, 'q')\n",
    "cr = ClassicalRegister(2, 'c')"
   ]
  },
  {
   "cell_type": "markdown",
   "id": "f540ad31",
   "metadata": {},
   "source": [
    "### Determinação do Oráculo\n",
    "\n",
    "Oráculo para o estado $\\lvert \\omega \\rangle = \\lvert 11 \\rangle$ \n",
    "\n",
    "\n",
    "\\begin{aligned}\n",
    "U_\\omega = \\begin{bmatrix} 1 & 0 & 0 & 0 \\\\ 0 & 1 & 0 & 0 \\\\ 0 & 0 & 1 & 0 \\\\ 0 & 0 & 0 & -1 \\\\ \\end{bmatrix}\n",
    "\\end{aligned}"
   ]
  },
  {
   "cell_type": "code",
   "execution_count": 21,
   "id": "c3a68616",
   "metadata": {},
   "outputs": [
    {
     "data": {
      "image/png": "[encoded data removed]",
      "text/plain": [
       "<Figure size 146.652x144.48 with 1 Axes>"
      ]
     },
     "execution_count": 21,
     "metadata": {},
     "output_type": "execute_result"
    }
   ],
   "source": [
    "#Construção do oráculo\n",
    "\n",
    "oraculo = QuantumCircuit(qr, name = 'Oraculo')\n",
    "oraculo.cz(qr[0], qr[1])\n",
    "oraculo.draw(output = 'mpl') #desenhando o oraculo"
   ]
  },
  {
   "cell_type": "code",
   "execution_count": 24,
   "id": "d7284495",
   "metadata": {},
   "outputs": [
    {
     "data": {
      "image/png": "[encoded data removed]",
      "text/plain": [
       "<Figure size 387.452x204.68 with 1 Axes>"
      ]
     },
     "execution_count": 24,
     "metadata": {},
     "output_type": "execute_result"
    }
   ],
   "source": [
    "#Circuito do algoritmo de Grover e realizando a medição\n",
    "\n",
    "grover = QuantumCircuit(qr, cr)\n",
    "grover.h([qr[0], qr[1]])\n",
    "\n",
    "grover.append(oraculo, [qr[0], qr[1]])\n",
    "#grover.compose(oraculo, [qr[0], qr[1]])\n",
    "\n",
    "grover.measure(qr,cr)\n",
    "grover.draw(output = 'mpl')"
   ]
  },
  {
   "cell_type": "code",
   "execution_count": 19,
   "id": "72996d71",
   "metadata": {},
   "outputs": [
    {
     "data": {
      "image/png": "[encoded data removed]",
      "text/plain": [
       "<Figure size 327.252x204.68 with 1 Axes>"
      ]
     },
     "execution_count": 19,
     "metadata": {},
     "output_type": "execute_result"
    }
   ],
   "source": [
    "#Perceba que o oraculo corresponde a um gate cz\n",
    "\n",
    "grover_decom = grover.decompose()\n",
    "grover_decom.draw('mpl')"
   ]
  },
  {
   "cell_type": "code",
   "execution_count": 25,
   "id": "bc1b8dba",
   "metadata": {},
   "outputs": [
    {
     "data": {
      "image/png": "[encoded data removed]",
      "text/plain": [
       "<Figure size 504x360 with 1 Axes>"
      ]
     },
     "execution_count": 25,
     "metadata": {},
     "output_type": "execute_result"
    }
   ],
   "source": [
    "#Agora vamos analisar a distribuição de probabilidades\n",
    "\n",
    "simulador = Aer.get_backend('qasm_simulator')\n",
    "resultado = execute(grover, backend = simulador).result()\n",
    "plot_histogram(resultado.get_counts(grover))"
   ]
  },
  {
   "cell_type": "markdown",
   "id": "2cdd459e",
   "metadata": {},
   "source": [
    "### Rotação \n",
    "\n",
    "Para completar o circuito, precisamos implementar a reflexão adicional $U_s = 2|s\\rangle\\langle s| - \\mathbb{1}$. Ou seja, queremos acrescentar uma fase negativa a cada estado ortogonal a  $|s\\rangle$, já que esta é uma reflexão sobre $|s\\rangle$.\n",
    "\n",
    "<img src=\"grover_circuit_2qbuits_reflection.svg\" width=\"300\" height=\"300\">\n",
    "\n",
    "\n",
    "\n",
    "Protocolo:\n",
    "\n",
    "1. Usamos a operação que transforma o estado $|s\\rangle \\rightarrow |0\\rangle$, i.e.$H^{\\otimes n}|s\\rangle = |0\\rangle$\n",
    "    \n",
    "2. Depois aplicamos um circuito que acrescenta uma fase ortogonal negativa aos estados ortogonais a $|0\\rangle$:\n",
    "    \n",
    "    \\begin{aligned}\n",
    "        U_0 \\frac{1}{2}\\left( \\lvert 00 \\rangle + \\lvert 01 \\rangle + \\lvert 10 \\rangle + \\lvert 11 \\rangle \\right) = \\frac{1}{2}\\left( \\lvert 00 \\rangle - \\lvert 01 \\rangle - \\lvert 10 \\rangle - \\lvert 11 \\rangle\\right)\n",
    "        \\end{aligned}\n",
    "        \n",
    "      ou seja, os sinais de cada estado são invertidos, exceto para $\\lvert 00 \\rangle$. Podemos definir $U_0$ como\n",
    "      \n",
    "   <img src=\"grover_circuit_2qbuits_reflection_0.svg\" width=\"300\" height=\"300\">\n",
    "\n",
    "3. Finalmente, fazemos a operação que transforma o estado $|0\\rangle \\rightarrow |s\\rangle$:\n",
    "    \n",
    "    \\begin{aligned}\n",
    "    H^{\\otimes n}U_0 H^{\\otimes n} = U_s\n",
    "\\end{aligned}\n",
    "\n"
   ]
  },
  {
   "cell_type": "code",
   "execution_count": 26,
   "id": "a9355f42",
   "metadata": {},
   "outputs": [
    {
     "data": {
      "image/png": "[encoded data removed]",
      "text/plain": [
       "<Figure size 327.252x144.48 with 1 Axes>"
      ]
     },
     "execution_count": 26,
     "metadata": {},
     "output_type": "execute_result"
    }
   ],
   "source": [
    "#Rotina de reflexão do algoritmo de Grover\n",
    "\n",
    "reflexao = QuantumCircuit(qr, name = 'Reflexao')\n",
    "reflexao.h([qr[0], qr[1]])\n",
    "reflexao.z([qr[0], qr[1]])\n",
    "reflexao.cz(qr[0], qr[1])\n",
    "reflexao.h([qr[0], qr[1]])\n",
    "reflexao.draw(output = 'mpl')"
   ]
  },
  {
   "cell_type": "code",
   "execution_count": 27,
   "id": "a831a665",
   "metadata": {},
   "outputs": [
    {
     "data": {
      "image/png": "[encoded data removed]",
      "text/plain": [
       "<Figure size 507.852x204.68 with 1 Axes>"
      ]
     },
     "execution_count": 27,
     "metadata": {},
     "output_type": "execute_result"
    }
   ],
   "source": [
    "#Agora montando o circuito de busca do algoritmo de Grover\n",
    "\n",
    "grover = QuantumCircuit(qr, cr)\n",
    "grover.h([qr[0], qr[1]])\n",
    "grover.append(oraculo, [qr[0], qr[1]])\n",
    "grover.append(reflexao, [qr[0], qr[1]])\n",
    "grover.measure(qr, cr)\n",
    "grover.draw(output = 'mpl')"
   ]
  },
  {
   "cell_type": "markdown",
   "id": "fed7515d",
   "metadata": {},
   "source": [
    "<img src=\"grover_circuit_high_level.png\" width=\"500\" height=\"500\">\n"
   ]
  },
  {
   "cell_type": "code",
   "execution_count": 28,
   "id": "3adc9041",
   "metadata": {},
   "outputs": [
    {
     "data": {
      "image/png": "[encoded data removed]",
      "text/plain": [
       "<Figure size 568.052x204.68 with 1 Axes>"
      ]
     },
     "execution_count": 28,
     "metadata": {},
     "output_type": "execute_result"
    }
   ],
   "source": [
    "#Decompondo novamente\n",
    "\n",
    "grover_decom = grover.decompose()\n",
    "grover_decom.draw('mpl')"
   ]
  },
  {
   "cell_type": "code",
   "execution_count": 29,
   "id": "214167c0",
   "metadata": {},
   "outputs": [
    {
     "data": {
      "image/png": "[encoded data removed]",
      "text/plain": [
       "<Figure size 504x360 with 1 Axes>"
      ]
     },
     "execution_count": 29,
     "metadata": {},
     "output_type": "execute_result"
    }
   ],
   "source": [
    "#Executando o circuito no simulador\n",
    "\n",
    "simulador = Aer.get_backend('qasm_simulator')\n",
    "resultado = execute(grover, backend = simulador).result()\n",
    "plot_histogram(resultado.get_counts(grover))"
   ]
  },
  {
   "cell_type": "code",
   "execution_count": 30,
   "id": "74a6354e",
   "metadata": {},
   "outputs": [],
   "source": [
    "#Agora vamos executar o circuito em um computador quântico real\n",
    "\n",
    "import qiskit.tools.jupyter\n",
    "from qiskit.tools import job_monitor"
   ]
  },
  {
   "cell_type": "code",
   "execution_count": 13,
   "id": "9ef4b541",
   "metadata": {},
   "outputs": [
    {
     "data": {
      "application/vnd.jupyter.widget-view+json": {
       "model_id": "88a724d94cb645e0adf9e30e6c619046",
       "version_major": 2,
       "version_minor": 0
      },
      "text/plain": [
       "VBox(children=(HTML(value=\"<h2 style ='color:#ffffff; background-color:#000000;padding-top: 1%; padding-bottom…"
      ]
     },
     "metadata": {},
     "output_type": "display_data"
    }
   ],
   "source": [
    "provider = IBMQ.load_account() #carregando a conta da IBMQ\n",
    "%qiskit_backend_overview"
   ]
  },
  {
   "cell_type": "code",
   "execution_count": 14,
   "id": "49b52c58",
   "metadata": {},
   "outputs": [
    {
     "name": "stdout",
     "output_type": "stream",
     "text": [
      "Job Status: job has successfully run\n"
     ]
    }
   ],
   "source": [
    "#Rodando o circuito em si no computador quântico da IBM\n",
    "\n",
    "backend = provider.get_backend('ibmq_quito')\n",
    "job = execute(grover, backend = backend)\n",
    "job_monitor(job)"
   ]
  },
  {
   "cell_type": "code",
   "execution_count": 15,
   "id": "18629b7a",
   "metadata": {},
   "outputs": [
    {
     "data": {
      "image/png": "[encoded data removed]",
      "text/plain": [
       "<Figure size 504x360 with 1 Axes>"
      ]
     },
     "execution_count": 15,
     "metadata": {},
     "output_type": "execute_result"
    }
   ],
   "source": [
    "#analisando os resultados obtidos via computador quântico real\n",
    "\n",
    "resultado = job.result()\n",
    "plot_histogram(resultado.get_counts(grover))"
   ]
  },
  {
   "cell_type": "code",
   "execution_count": null,
   "id": "30844205",
   "metadata": {},
   "outputs": [],
   "source": []
  }
 ],
 "metadata": {
  "kernelspec": {
   "display_name": "Python 3 (ipykernel)",
   "language": "python",
   "name": "python3"
  },
  "language_info": {
   "codemirror_mode": {
    "name": "ipython",
    "version": 3
   },
   "file_extension": ".py",
   "mimetype": "text/x-python",
   "name": "python",
   "nbconvert_exporter": "python",
   "pygments_lexer": "ipython3",
   "version": "3.8.10"
  }
 },
 "nbformat": 4,
 "nbformat_minor": 5
}
